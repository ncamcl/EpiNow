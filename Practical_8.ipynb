{
  "nbformat": 4,
  "nbformat_minor": 0,
  "metadata": {
    "colab": {
      "provenance": [],
      "gpuType": "T4",
      "include_colab_link": true
    },
    "kernelspec": {
      "name": "python3",
      "display_name": "Python 3"
    },
    "language_info": {
      "name": "python"
    },
    "accelerator": "GPU"
  },
  "cells": [
    {
      "cell_type": "markdown",
      "metadata": {
        "id": "view-in-github",
        "colab_type": "text"
      },
      "source": [
        "<a href=\"https://colab.research.google.com/github/ncamcl/EpiNow/blob/master/Practical_8.ipynb\" target=\"_parent\"><img src=\"https://colab.research.google.com/assets/colab-badge.svg\" alt=\"Open In Colab\"/></a>"
      ]
    },
    {
      "cell_type": "markdown",
      "source": [
        "# **CUDA Programming on NVIDIA GPUs, July 22-26, 2024**\n",
        "\n",
        "# **Practical 8**\n",
        "\n",
        "Again make sure the correct Runtime is being used, by clicking on the Runtime option at the top, then \"Change runtime type\", and selecting an appropriate GPU such as the T4.\n",
        "\n",
        "Then verify the details of the GPU which is available to you, and upload the usual two header files."
      ],
      "metadata": {
        "id": "i1JlUA_e44zk"
      }
    },
    {
      "cell_type": "code",
      "source": [
        "!nvidia-smi\n"
      ],
      "metadata": {
        "colab": {
          "base_uri": "https://localhost:8080/"
        },
        "id": "uboEpcMD4xYA",
        "outputId": "5f18f98b-7b51-4bb2-b817-19d5dd8debf4"
      },
      "execution_count": null,
      "outputs": [
        {
          "output_type": "stream",
          "name": "stdout",
          "text": [
            "Sun Jun  9 06:31:46 2024       \n",
            "+---------------------------------------------------------------------------------------+\n",
            "| NVIDIA-SMI 535.104.05             Driver Version: 535.104.05   CUDA Version: 12.2     |\n",
            "|-----------------------------------------+----------------------+----------------------+\n",
            "| GPU  Name                 Persistence-M | Bus-Id        Disp.A | Volatile Uncorr. ECC |\n",
            "| Fan  Temp   Perf          Pwr:Usage/Cap |         Memory-Usage | GPU-Util  Compute M. |\n",
            "|                                         |                      |               MIG M. |\n",
            "|=========================================+======================+======================|\n",
            "|   0  Tesla T4                       Off | 00000000:00:04.0 Off |                    0 |\n",
            "| N/A   69C    P8              12W /  70W |      0MiB / 15360MiB |      0%      Default |\n",
            "|                                         |                      |                  N/A |\n",
            "+-----------------------------------------+----------------------+----------------------+\n",
            "                                                                                         \n",
            "+---------------------------------------------------------------------------------------+\n",
            "| Processes:                                                                            |\n",
            "|  GPU   GI   CI        PID   Type   Process name                            GPU Memory |\n",
            "|        ID   ID                                                             Usage      |\n",
            "|=======================================================================================|\n",
            "|  No running processes found                                                           |\n",
            "+---------------------------------------------------------------------------------------+\n"
          ]
        }
      ]
    },
    {
      "cell_type": "code",
      "source": [
        "!wget https://people.maths.ox.ac.uk/gilesm/cuda/headers/helper_cuda.h\n",
        "!wget https://people.maths.ox.ac.uk/gilesm/cuda/headers/helper_string.h\n"
      ],
      "metadata": {
        "colab": {
          "base_uri": "https://localhost:8080/"
        },
        "id": "vv1nyjTmTmr7",
        "outputId": "0359d8d6-c6f8-4f90-af8d-6f06990c736f"
      },
      "execution_count": null,
      "outputs": [
        {
          "output_type": "stream",
          "name": "stdout",
          "text": [
            "--2024-06-09 06:31:47--  https://people.maths.ox.ac.uk/gilesm/cuda/headers/helper_cuda.h\n",
            "Resolving people.maths.ox.ac.uk (people.maths.ox.ac.uk)... 129.67.184.129, 2001:630:441:202::8143:b881\n",
            "Connecting to people.maths.ox.ac.uk (people.maths.ox.ac.uk)|129.67.184.129|:443... connected.\n",
            "HTTP request sent, awaiting response... 200 OK\n",
            "Length: 34238 (33K) [text/x-chdr]\n",
            "Saving to: ‘helper_cuda.h’\n",
            "\n",
            "helper_cuda.h       100%[===================>]  33.44K  --.-KB/s    in 0.1s    \n",
            "\n",
            "2024-06-09 06:31:48 (258 KB/s) - ‘helper_cuda.h’ saved [34238/34238]\n",
            "\n",
            "--2024-06-09 06:31:48--  https://people.maths.ox.ac.uk/gilesm/cuda/headers/helper_string.h\n",
            "Resolving people.maths.ox.ac.uk (people.maths.ox.ac.uk)... 129.67.184.129, 2001:630:441:202::8143:b881\n",
            "Connecting to people.maths.ox.ac.uk (people.maths.ox.ac.uk)|129.67.184.129|:443... connected.\n",
            "HTTP request sent, awaiting response... 200 OK\n",
            "Length: 23960 (23K) [text/x-chdr]\n",
            "Saving to: ‘helper_string.h’\n",
            "\n",
            "helper_string.h     100%[===================>]  23.40K  --.-KB/s    in 0.1s    \n",
            "\n",
            "2024-06-09 06:31:49 (181 KB/s) - ‘helper_string.h’ saved [23960/23960]\n",
            "\n"
          ]
        }
      ]
    },
    {
      "cell_type": "markdown",
      "source": [
        "\n",
        "\n",
        "---\n",
        "\n",
        "The next step is to create the file scan.cu which includes within it a reference C++ routine against which the CUDA results are compared."
      ],
      "metadata": {
        "id": "RD6IjBwY2Ltm"
      }
    },
    {
      "cell_type": "code",
      "source": [
        "%%writefile scan.cu\n",
        "\n",
        "#include <stdlib.h>\n",
        "#include <stdio.h>\n",
        "#include <string.h>\n",
        "#include <math.h>\n",
        "#include <float.h>\n",
        "\n",
        "#include <helper_cuda.h>\n",
        "\n",
        "\n",
        "///////////////////////////////////////////////////////////////////////\n",
        "// CPU routine\n",
        "///////////////////////////////////////////////////////////////////////\n",
        "\n",
        "void scan_gold(float* odata, float* idata, const unsigned int len)\n",
        "{\n",
        "  odata[0] = 0;\n",
        "  for(int i=1; i<len; i++) odata[i] = idata[i-1] + odata[i-1];\n",
        "}\n",
        "\n",
        "///////////////////////////////////////////////////////////////////////\n",
        "// GPU routine\n",
        "///////////////////////////////////////////////////////////////////////\n",
        "\n",
        "__global__ void scan(float *g_odata, float *g_idata)\n",
        "{\n",
        "  // Dynamically allocated shared memory for scan kernels\n",
        "\n",
        "  extern __shared__  float tmp[];\n",
        "\n",
        "  float temp;\n",
        "  int   tid = threadIdx.x;\n",
        "\n",
        "  // read input into shared memory\n",
        "\n",
        "  temp     = g_idata[tid];\n",
        "  tmp[tid] = temp;\n",
        "\n",
        "  // perform scan\n",
        "\n",
        "  for (int d=1; d<blockDim.x; d=2*d) {\n",
        "    __syncthreads();\n",
        "    if (tid-d >= 0) temp += tmp[tid-d];\n",
        "    __syncthreads();\n",
        "    tmp[tid] = temp;\n",
        "  }\n",
        "\n",
        "  // write results to global memory\n",
        "\n",
        "  __syncthreads();\n",
        "\n",
        "  temp = 0.0f;\n",
        "  if (tid>0) temp = tmp[tid-1];\n",
        "\n",
        "  g_odata[tid] = temp;\n",
        "}\n",
        "\n",
        "\n",
        "////////////////////////////////////////////////////////////////////////\n",
        "// Program main\n",
        "////////////////////////////////////////////////////////////////////////\n",
        "\n",
        "int main( int argc, const char** argv)\n",
        "{\n",
        "  int num_threads, num_elements, mem_size, shared_mem_size;\n",
        "\n",
        "  float *h_data, *reference;\n",
        "  float *d_idata, *d_odata;\n",
        "\n",
        "  // initialise card\n",
        "\n",
        "  findCudaDevice(argc, argv);\n",
        "\n",
        "  num_threads  = 512;\n",
        "  num_elements = num_threads;\n",
        "  mem_size     = sizeof(float) * num_elements;\n",
        "\n",
        "  // allocate host memory to store the input data\n",
        "  // and initialize to integer values between 0 and 10\n",
        "\n",
        "  h_data = (float*) malloc(mem_size);\n",
        "\n",
        "  for(int i=0; i<num_elements; i++)\n",
        "    h_data[i] = floorf(10.0f*(rand()/(float)RAND_MAX));\n",
        "\n",
        "  // compute reference solution\n",
        "\n",
        "  reference = (float*) malloc(mem_size);\n",
        "  scan_gold(reference, h_data, num_elements);\n",
        "\n",
        "  // allocate device memory input and output arrays\n",
        "\n",
        "  checkCudaErrors( cudaMalloc((void**)&d_idata, mem_size) );\n",
        "  checkCudaErrors( cudaMalloc((void**)&d_odata, mem_size) );\n",
        "\n",
        "  // copy host memory to device input array\n",
        "\n",
        "  checkCudaErrors( cudaMemcpy(d_idata, h_data, mem_size,\n",
        "                              cudaMemcpyHostToDevice));\n",
        "\n",
        "  // execute the kernel\n",
        "\n",
        "  shared_mem_size = sizeof(float) * num_threads;\n",
        "  scan<<<1,num_threads,shared_mem_size>>>(d_odata,d_idata);\n",
        "  getLastCudaError(\"scan kernel execution failed\");\n",
        "\n",
        "  // copy result from device to host\n",
        "\n",
        "  checkCudaErrors( cudaMemcpy(h_data, d_odata, mem_size,\n",
        "                              cudaMemcpyDeviceToHost) );\n",
        "\n",
        "  // check results\n",
        "\n",
        "  float err=0.0;\n",
        "  for (int i=0; i<num_elements; i++)\n",
        "    err += (h_data[i] - reference[i])*(h_data[i] - reference[i]);\n",
        "  printf(\"rms scan error  = %f\\n\",sqrt(err/num_elements));\n",
        "\n",
        "  // cleanup memory\n",
        "\n",
        "  free(h_data);\n",
        "  free(reference);\n",
        "  checkCudaErrors( cudaFree(d_idata) );\n",
        "  checkCudaErrors( cudaFree(d_odata) );\n",
        "\n",
        "  // CUDA exit -- needed to flush printf write buffer\n",
        "\n",
        "  cudaDeviceReset();\n",
        "}"
      ],
      "metadata": {
        "colab": {
          "base_uri": "https://localhost:8080/"
        },
        "id": "XcwQANS22i3Q",
        "outputId": "ff325384-6dfa-4801-ab5a-b9880179a393"
      },
      "execution_count": null,
      "outputs": [
        {
          "output_type": "stream",
          "name": "stdout",
          "text": [
            "Writing scan.cu\n"
          ]
        }
      ]
    },
    {
      "cell_type": "markdown",
      "source": [
        "\n",
        "---\n",
        "\n",
        "We can now compile and run the executable.  Note that the compilation links in the CUDA random number generation library cuRAND.\n"
      ],
      "metadata": {
        "id": "yds03ug532rC"
      }
    },
    {
      "cell_type": "code",
      "source": [
        "!nvcc scan.cu -o scan -I. -lineinfo -arch=sm_70 --ptxas-options=-v --use_fast_math -lcudart"
      ],
      "metadata": {
        "colab": {
          "base_uri": "https://localhost:8080/"
        },
        "id": "XFHWm4Dd3_hw",
        "outputId": "8b0bb672-21c4-41a9-ebe9-e1823f1692b3"
      },
      "execution_count": null,
      "outputs": [
        {
          "output_type": "stream",
          "name": "stdout",
          "text": [
            "ptxas info    : 0 bytes gmem\n",
            "ptxas info    : Compiling entry function '_Z4scanPfS_' for 'sm_70'\n",
            "ptxas info    : Function properties for _Z4scanPfS_\n",
            "    0 bytes stack frame, 0 bytes spill stores, 0 bytes spill loads\n",
            "ptxas info    : Used 12 registers, 368 bytes cmem[0]\n"
          ]
        }
      ]
    },
    {
      "cell_type": "code",
      "source": [
        "!./scan"
      ],
      "metadata": {
        "colab": {
          "base_uri": "https://localhost:8080/"
        },
        "id": "W7jX9dSAaLj0",
        "outputId": "d98bbb6d-81cd-4be7-c7d2-7d1e3072a746"
      },
      "execution_count": null,
      "outputs": [
        {
          "output_type": "stream",
          "name": "stdout",
          "text": [
            "rms scan error  = 0.000000\n"
          ]
        }
      ]
    },
    {
      "cell_type": "markdown",
      "source": [
        "\n",
        "\n",
        "---\n",
        "\n",
        "You are now ready to carry out the exercises in Practical 8.\n",
        "\n"
      ],
      "metadata": {
        "id": "ncymVLmd4L82"
      }
    }
  ]
}